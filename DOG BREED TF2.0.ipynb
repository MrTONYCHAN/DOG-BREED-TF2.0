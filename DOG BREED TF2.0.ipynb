{
 "cells": [
  {
   "cell_type": "markdown",
   "metadata": {},
   "source": [
    "# Train"
   ]
  },
  {
   "cell_type": "code",
   "execution_count": null,
   "metadata": {},
   "outputs": [],
   "source": [
    "#Dog-Breed-Classifier-using-TF2.0\n",
    "#A simple classification model which takes the advantage of transfer learning to train the model to identify the dog images."
   ]
  },
  {
   "cell_type": "code",
   "execution_count": null,
   "metadata": {},
   "outputs": [],
   "source": [
    "import os\n",
    "import numpy as np\n",
    "import pandas as pd\n",
    "import cv2\n",
    "from glob import glob\n",
    "\n",
    "import tensorflow as tf\n",
    "from tensorflow.keras.layers import *\n",
    "from tensorflow.keras.applications import MobileNetV2\n",
    "from tensorflow.keras.callbacks import ModelCheckpoint, ReduceLROnPlateau\n",
    "from tensorflow.keras.optimizers import Adam\n",
    "from sklearn.model_selection import train_test_split"
   ]
  },
  {
   "cell_type": "code",
   "execution_count": null,
   "metadata": {},
   "outputs": [],
   "source": [
    "def build_model(size, num_classes):\n",
    "    inputs = Input((size, size, 3))\n",
    "    backbone = MobileNetV2(input_tensor=inputs, include_top=False, weights=\"imagenet\")\n",
    "    backbone.trainable = True\n",
    "    x = backbone.output\n",
    "    x = GlobalAveragePooling2D()(x)\n",
    "    x = Dropout(0.2)(x)\n",
    "    x = Dense(1024, activation=\"relu\")(x)\n",
    "    x = Dense(num_classes, activation=\"softmax\")(x)\n",
    "\n",
    "    model = tf.keras.Model(inputs, x)\n",
    "    return model"
   ]
  },
  {
   "cell_type": "code",
   "execution_count": null,
   "metadata": {},
   "outputs": [],
   "source": [
    "def read_image(path, size):\n",
    "    image = cv2.imread(path, cv2.IMREAD_COLOR)\n",
    "    image = cv2.resize(image, (size, size))\n",
    "    image = image / 255.0\n",
    "    image = image.astype(np.float32)\n",
    "    return image"
   ]
  },
  {
   "cell_type": "code",
   "execution_count": null,
   "metadata": {},
   "outputs": [],
   "source": [
    "def parse_data(x, y):\n",
    "    x = x.decode()\n",
    "\n",
    "    num_class = 120\n",
    "    size = 224\n",
    "\n",
    "    image = read_image(x, size)\n",
    "    label = [0] * num_class\n",
    "    label[y] = 1\n",
    "    label = np.array(label)\n",
    "    label = label.astype(np.int32)\n",
    "\n",
    "    return image, label"
   ]
  },
  {
   "cell_type": "code",
   "execution_count": null,
   "metadata": {},
   "outputs": [],
   "source": [
    "def tf_parse(x, y):\n",
    "    x, y = tf.numpy_function(parse_data, [x, y], [tf.float32, tf.int32])\n",
    "    x.set_shape((224, 224, 3))\n",
    "    y.set_shape((120))\n",
    "    return x, y"
   ]
  },
  {
   "cell_type": "code",
   "execution_count": null,
   "metadata": {},
   "outputs": [],
   "source": [
    "def tf_dataset(x, y, batch=8):\n",
    "    dataset = tf.data.Dataset.from_tensor_slices((x, y))\n",
    "    dataset = dataset.map(tf_parse)\n",
    "    dataset = dataset.batch(batch)\n",
    "    dataset = dataset.repeat()\n",
    "    return dataset"
   ]
  },
  {
   "cell_type": "code",
   "execution_count": null,
   "metadata": {},
   "outputs": [],
   "source": [
    "if __name__ == \"__main__\":\n",
    "    path = \"Dog Breed Identification/\"\n",
    "    train_path = os.path.join(path, \"train/*\")\n",
    "    test_path = os.path.join(path, \"test/*\")\n",
    "    labels_path = os.path.join(path, \"labels.csv\")\n",
    "\n",
    "    labels_df = pd.read_csv(labels_path)\n",
    "    breed = labels_df[\"breed\"].unique()\n",
    "    print(\"Number of Breed: \", len(breed))\n",
    "\n",
    "    breed2id = {name: i for i, name in enumerate(breed)}\n",
    "\n",
    "    ids = glob(train_path)\n",
    "    labels = []"
   ]
  },
  {
   "cell_type": "code",
   "execution_count": null,
   "metadata": {},
   "outputs": [],
   "source": [
    " for image_id in ids:\n",
    "        image_id = image_id.split(\"/\")[-1].split(\".\")[0]\n",
    "        breed_name = list(labels_df[labels_df.id == image_id][\"breed\"])[0]\n",
    "        breed_idx = breed2id[breed_name]\n",
    "        labels.append(breed_idx)\n",
    "\n",
    "    ids = ids[:1000]\n",
    "    labels = labels[:1000]\n"
   ]
  },
  {
   "cell_type": "markdown",
   "metadata": {},
   "source": [
    "# Spliting the dataset"
   ]
  },
  {
   "cell_type": "code",
   "execution_count": null,
   "metadata": {},
   "outputs": [],
   "source": [
    "train_x, valid_x = train_test_split(ids, test_size=0.2, random_state=42)\n",
    "train_y, valid_y = train_test_split(labels, test_size=0.2, random_state=42)"
   ]
  },
  {
   "cell_type": "markdown",
   "metadata": {},
   "source": [
    "#  Parameters"
   ]
  },
  {
   "cell_type": "code",
   "execution_count": null,
   "metadata": {},
   "outputs": [],
   "source": [
    "size = 224\n",
    "num_classes = 120\n",
    "lr = 1e-4\n",
    "batch = 16\n",
    "epochs = 10"
   ]
  },
  {
   "cell_type": "markdown",
   "metadata": {},
   "source": [
    "# Model"
   ]
  },
  {
   "cell_type": "code",
   "execution_count": null,
   "metadata": {},
   "outputs": [],
   "source": [
    "model = build_model(size, num_classes)\n",
    "model.compile(loss=\"categorical_crossentropy\", optimizer=Adam(lr), metrics=[\"acc\"])\n",
    "    # model.summary()"
   ]
  },
  {
   "cell_type": "markdown",
   "metadata": {},
   "source": [
    "# Dataset"
   ]
  },
  {
   "cell_type": "code",
   "execution_count": null,
   "metadata": {},
   "outputs": [],
   "source": [
    "train_dataset = tf_dataset(train_x, train_y, batch=batch)\n",
    "valid_dataset = tf_dataset(valid_x, valid_y, batch=batch)"
   ]
  },
  {
   "cell_type": "markdown",
   "metadata": {},
   "source": [
    "# Training"
   ]
  },
  {
   "cell_type": "code",
   "execution_count": null,
   "metadata": {},
   "outputs": [],
   "source": [
    " callbacks = [\n",
    "        ModelCheckpoint(\"model.h5\", verbose=1, save_best_only=True),\n",
    "        ReduceLROnPlateau(factor=0.1, patience=5, min_lr=1e-6)\n",
    "    ]\n",
    "    train_steps = (len(train_x)//batch) + 1\n",
    "    valid_steps = (len(valid_x)//batch) + 1\n",
    "    model.fit(train_dataset,\n",
    "        steps_per_epoch=train_steps,\n",
    "        validation_steps=valid_steps,\n",
    "        validation_data=valid_dataset,\n",
    "        epochs=epochs,\n",
    "        callbacks=callbacks)"
   ]
  },
  {
   "cell_type": "markdown",
   "metadata": {},
   "source": [
    "# Test"
   ]
  },
  {
   "cell_type": "code",
   "execution_count": null,
   "metadata": {},
   "outputs": [],
   "source": [
    "import os\n",
    "import numpy as np\n",
    "import pandas as pd\n",
    "import cv2\n",
    "from glob import glob\n",
    "from tqdm import tqdm\n",
    "import tensorflow as tf\n",
    "from sklearn.model_selection import train_test_split"
   ]
  },
  {
   "cell_type": "code",
   "execution_count": null,
   "metadata": {},
   "outputs": [],
   "source": [
    "def read_image(path, size):\n",
    "    image = cv2.imread(path, cv2.IMREAD_COLOR)\n",
    "    image = cv2.resize(image, (size, size))\n",
    "    image = image / 255.0\n",
    "    image = image.astype(np.float32)\n",
    "    return image"
   ]
  },
  {
   "cell_type": "code",
   "execution_count": null,
   "metadata": {},
   "outputs": [],
   "source": [
    "if __name__ == \"__main__\":\n",
    "    path = \"Dog Breed Identification/\"\n",
    "    train_path = os.path.join(path, \"train/*\")\n",
    "    test_path = os.path.join(path, \"test/*\")\n",
    "    labels_path = os.path.join(path, \"labels.csv\")\n",
    "\n",
    "    labels_df = pd.read_csv(labels_path)\n",
    "    breed = labels_df[\"breed\"].unique()\n",
    "    print(\"Number of Breed: \", len(breed))\n",
    "\n",
    "    breed2id = {name: i for i, name in enumerate(breed)}\n",
    "    id2breed = {i: name for i, name in enumerate(breed)}\n",
    "\n",
    "    ids = glob(train_path)\n",
    "    labels = []\n",
    "\n",
    "    for image_id in ids:\n",
    "        image_id = image_id.split(\"/\")[-1].split(\".\")[0]\n",
    "        breed_name = list(labels_df[labels_df.id == image_id][\"breed\"])[0]\n",
    "        breed_idx = breed2id[breed_name]\n",
    "        labels.append(breed_idx)\n",
    "\n",
    "    ids = ids[:1000]\n",
    "    labels = labels[:1000]"
   ]
  },
  {
   "cell_type": "markdown",
   "metadata": {},
   "source": [
    "# Spliting the dataset"
   ]
  },
  {
   "cell_type": "code",
   "execution_count": null,
   "metadata": {},
   "outputs": [],
   "source": [
    "train_x, valid_x = train_test_split(ids, test_size=0.2, random_state=42)\n",
    "train_y, valid_y = train_test_split(labels, test_size=0.2, random_state=42)"
   ]
  },
  {
   "cell_type": "markdown",
   "metadata": {},
   "source": [
    "# Model"
   ]
  },
  {
   "cell_type": "code",
   "execution_count": null,
   "metadata": {},
   "outputs": [],
   "source": [
    "  model = tf.keras.models.load_model(\"model.h5\")\n",
    "\n",
    "    for i, path in tqdm(enumerate(valid_x[:10])):\n",
    "        image = read_image(path, 224)\n",
    "        image = np.expand_dims(image, axis=0)\n",
    "        pred = model.predict(image)[0]\n",
    "        label_idx = np.argmax(pred)\n",
    "        breed_name = id2breed[label_idx]\n",
    "\n",
    "        ori_breed = id2breed[valid_y[i]]\n",
    "        ori_image = cv2.imread(path, cv2.IMREAD_COLOR)\n",
    "\n",
    "        ori_image = cv2.putText(ori_image, breed_name, (0, 10), cv2.FONT_HERSHEY_SIMPLEX, 0.5, (255, 0, 0), 1)\n",
    "        ori_image = cv2.putText(ori_image, ori_breed, (0, 30), cv2.FONT_HERSHEY_SIMPLEX, 0.5, (0, 0, 0), 1)\n",
    "\n",
    "        cv2.imwrite(f\"save/valid_{i}.png\", ori_image)"
   ]
  }
 ],
 "metadata": {
  "kernelspec": {
   "display_name": "Python 3",
   "language": "python",
   "name": "python3"
  },
  "language_info": {
   "codemirror_mode": {
    "name": "ipython",
    "version": 3
   },
   "file_extension": ".py",
   "mimetype": "text/x-python",
   "name": "python",
   "nbconvert_exporter": "python",
   "pygments_lexer": "ipython3",
   "version": "3.8.3"
  }
 },
 "nbformat": 4,
 "nbformat_minor": 4
}
